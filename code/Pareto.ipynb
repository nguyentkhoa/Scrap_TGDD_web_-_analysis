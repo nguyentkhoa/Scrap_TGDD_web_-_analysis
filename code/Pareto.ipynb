{
 "cells": [
  {
   "cell_type": "code",
   "execution_count": 2,
   "metadata": {},
   "outputs": [],
   "source": [
    "import pandas as pd\n",
    "df=pd.read_csv('Best_sell_phone_cleaned.csv')"
   ]
  },
  {
   "cell_type": "code",
   "execution_count": null,
   "metadata": {},
   "outputs": [],
   "source": [
    "total_gross_revenue=df['gross_revenue'].sum()\n",
    "df_pareto=df.groupby(['phone_brand']).agg(total_sale=('gross_revenue','sum'))\n",
    "df_pareto['%_total_revenue']= round(df_pareto['total_sale'] / total_gross_revenue * 100,2)\n",
    "df_pareto=df_pareto.sort_values('total_sale')\n",
    "df_pareto['%_total_revenue_cum']=round(df_pareto['%_total_revenue'].cumsum(),2)"
   ]
  },
  {
   "cell_type": "code",
   "execution_count": 26,
   "metadata": {},
   "outputs": [],
   "source": [
    "df_pareto.to_csv('Pareto_Chart.csv')"
   ]
  }
 ],
 "metadata": {
  "kernelspec": {
   "display_name": "base",
   "language": "python",
   "name": "python3"
  },
  "language_info": {
   "codemirror_mode": {
    "name": "ipython",
    "version": 3
   },
   "file_extension": ".py",
   "mimetype": "text/x-python",
   "name": "python",
   "nbconvert_exporter": "python",
   "pygments_lexer": "ipython3",
   "version": "3.12.4"
  }
 },
 "nbformat": 4,
 "nbformat_minor": 2
}
