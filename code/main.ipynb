{
 "cells": [
  {
   "cell_type": "code",
   "execution_count": 1,
   "metadata": {},
   "outputs": [],
   "source": [
    "import selenium\n",
    "from selenium import webdriver\n",
    "from selenium.webdriver.common.by import By\n",
    "from selenium.webdriver.common.keys import Keys\n",
    "from selenium.webdriver.common.action_chains import ActionChains, ScrollOrigin\n",
    "from time import sleep\n",
    "import pandas as pd\n",
    "import re"
   ]
  },
  {
   "cell_type": "code",
   "execution_count": 2,
   "metadata": {},
   "outputs": [],
   "source": [
    "# Acess page \n",
    "url=r'https://www.thegioididong.com/'\n",
    "driver=webdriver.Chrome()\n",
    "driver.get(url)"
   ]
  },
  {
   "cell_type": "code",
   "execution_count": 3,
   "metadata": {},
   "outputs": [
    {
     "name": "stdout",
     "output_type": "stream",
     "text": [
      "a\n",
      "a\n",
      "a\n"
     ]
    }
   ],
   "source": [
    "# try close ads\n",
    "for i in range(1,4):\n",
    "    try:\n",
    "        driver.find_element(By.CLASS_NAME,'icon-close-popup').click()\n",
    "    except:\n",
    "        print('a')\n",
    "        i+=1\n",
    "        sleep(1)"
   ]
  },
  {
   "cell_type": "code",
   "execution_count": 4,
   "metadata": {},
   "outputs": [],
   "source": [
    "# Take main menu to click phone elm\n",
    "main_menu=driver.find_element(By.XPATH,'//ul[@class=\"main-menu\"]')\n",
    "# main_menu.find_element(By.XPATH,\"//span[text()='Điện thoại']\").click()\n",
    "category_phone=main_menu.find_elements(By.TAG_NAME, \"span\")[0].click()\n",
    "sleep(2)"
   ]
  },
  {
   "cell_type": "code",
   "execution_count": 5,
   "metadata": {},
   "outputs": [],
   "source": [
    "# Filter elm\n",
    "filter=driver.find_element(By.CLASS_NAME,'filter-total ').click()\n",
    "sleep(2)"
   ]
  },
  {
   "cell_type": "code",
   "execution_count": 6,
   "metadata": {},
   "outputs": [],
   "source": [
    "# Take main filter to click each brand\n",
    "filter_menu=driver.find_element(By.CLASS_NAME,'filter-list')\n",
    "each_phone_filter=filter_menu.find_elements(By.CSS_SELECTOR, \"a.c-btnbox.filter-manu\")"
   ]
  },
  {
   "cell_type": "code",
   "execution_count": 7,
   "metadata": {},
   "outputs": [],
   "source": [
    "# Run a loop to click all phone in filter\n",
    "for i in each_phone_filter:\n",
    "    i.click()\n",
    "    sleep(0.3)"
   ]
  },
  {
   "cell_type": "code",
   "execution_count": 8,
   "metadata": {},
   "outputs": [],
   "source": [
    "# See all product\n",
    "show_product=driver.find_element(By.XPATH,'//a[@class=\"btn-filter-readmore\"]').click()\n",
    "sleep(3)"
   ]
  },
  {
   "cell_type": "code",
   "execution_count": 9,
   "metadata": {},
   "outputs": [],
   "source": [
    "# Click bestsell\n",
    "try:\n",
    "    best_sell_filter=driver.find_element(By.XPATH,'//a[text()=\"Bán chạy\"]').click()\n",
    "except:\n",
    "    print('END')\n",
    "sleep(2)"
   ]
  },
  {
   "cell_type": "code",
   "execution_count": 10,
   "metadata": {},
   "outputs": [
    {
     "name": "stdout",
     "output_type": "stream",
     "text": [
      "No more product\n"
     ]
    }
   ],
   "source": [
    "# Click show more product\n",
    "while True:\n",
    "    try:\n",
    "        show_more_product=driver.find_element(By.CLASS_NAME,'view-more').click()\n",
    "        sleep(3)\n",
    "    except:\n",
    "        print('No more product')\n",
    "        break"
   ]
  },
  {
   "cell_type": "code",
   "execution_count": 11,
   "metadata": {},
   "outputs": [],
   "source": [
    "# Take a elm contant all products\n",
    "list_phone_elm=driver.find_element(By.XPATH,'//ul[@class=\"listproduct\"]')"
   ]
  },
  {
   "cell_type": "code",
   "execution_count": 12,
   "metadata": {},
   "outputs": [],
   "source": [
    "# Take all eml of phone in page\n",
    "product_detail=list_phone_elm.find_elements(By.CSS_SELECTOR,'li.item.ajaxed.__cate_42')"
   ]
  },
  {
   "cell_type": "code",
   "execution_count": 13,
   "metadata": {},
   "outputs": [],
   "source": [
    "# Func to get all info of the phone\n",
    "def get_info(product):\n",
    "    phone_id=product.find_element(By.TAG_NAME,'a').get_attribute('data-id')\n",
    "    phone_name=product.find_element(By.TAG_NAME,'a').get_attribute('data-name')\n",
    "    phone_price=product.find_element(By.TAG_NAME,'a').get_attribute('data-price')\n",
    "    phone_brand=product.find_element(By.TAG_NAME,'a').get_attribute('data-brand')\n",
    "    category=product.find_element(By.TAG_NAME,'a').get_attribute('data-cate')\n",
    "    phone_img=product.find_element(By.TAG_NAME,'img').get_attribute('src')\n",
    "    phone_screen=product.find_element(By.CLASS_NAME,'item-compare.gray-bg').get_attribute('textContent')\n",
    "    phone_utility=product.find_element(By.CLASS_NAME,'utility').get_attribute('textContent')\n",
    "    phone_rating=product.find_element(By.CLASS_NAME,'rating_Compare').get_attribute('textContent')\n",
    "    result={\n",
    "        'phone_id':phone_id,\n",
    "        'phone_name':phone_name,\n",
    "        'phone_price':phone_price,\n",
    "        'phone_brand':phone_brand,\n",
    "        'category':category,\n",
    "        'phone_img':phone_img,\n",
    "        'phone_screen':phone_screen,\n",
    "        'phone_utility':phone_utility,\n",
    "        'phone_rating':phone_rating\n",
    "    }\n",
    "    return result"
   ]
  },
  {
   "cell_type": "code",
   "execution_count": 14,
   "metadata": {},
   "outputs": [],
   "source": [
    "# Get info all phone\n",
    "all_product=[get_info(product) for product in product_detail]"
   ]
  },
  {
   "cell_type": "code",
   "execution_count": 15,
   "metadata": {},
   "outputs": [],
   "source": [
    "# Close driver\n",
    "driver.close()"
   ]
  },
  {
   "cell_type": "code",
   "execution_count": 16,
   "metadata": {},
   "outputs": [],
   "source": [
    "# Make the dataframe\n",
    "df=pd.DataFrame(all_product)"
   ]
  },
  {
   "cell_type": "code",
   "execution_count": null,
   "metadata": {},
   "outputs": [],
   "source": [
    "# Save to csv\n",
    "df.to_csv('Best_sell_phone_raw.csv',index=False)"
   ]
  }
 ],
 "metadata": {
  "kernelspec": {
   "display_name": "py38webcrawl",
   "language": "python",
   "name": "python3"
  },
  "language_info": {
   "codemirror_mode": {
    "name": "ipython",
    "version": 3
   },
   "file_extension": ".py",
   "mimetype": "text/x-python",
   "name": "python",
   "nbconvert_exporter": "python",
   "pygments_lexer": "ipython3",
   "version": "3.8.20"
  }
 },
 "nbformat": 4,
 "nbformat_minor": 2
}
